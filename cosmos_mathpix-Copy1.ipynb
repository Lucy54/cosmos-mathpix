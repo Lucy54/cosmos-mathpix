{
 "cells": [
  {
   "cell_type": "code",
   "execution_count": 7,
   "metadata": {},
   "outputs": [],
   "source": [
    "import glob\n",
    "import os\n",
    "from PIL import Image\n",
    "from io import BytesIO\n",
    "import base64\n",
    "import json\n",
    "import requests"
   ]
  },
  {
   "cell_type": "code",
   "execution_count": 8,
   "metadata": {},
   "outputs": [],
   "source": [
    "# {\n",
    "#     \"src\": \"data:image/jpeg;base64,...\",\n",
    "#     \"formats\": [\"text\", \"data\", \"html\"],\n",
    "#     \"data_options\": {\n",
    "#         \"include_asciimath\": true,\n",
    "#         \"include_latex\": true\n",
    "#     }\n",
    "#}\n",
    "\n",
    "# Change this code in the following ways:\n",
    "# 1) Make this a function: one argument: a path to an image and returns an object\n",
    "#  {\n",
    "#     \"latex_styled\": str -> Can return None\n",
    "#     \"ascii_math\": str\n",
    "#     }\n",
    "# 2) Replace the header app_id and the app_key and read them from the environment\n",
    "\n",
    "for img in glob.glob('test_images/*'): # Every file under test_images is an image file\n",
    "    with open(img, 'rb') as rf:\n",
    "        data = base64.b64encode(rf.read()).decode('utf-8')\n",
    "        req = {\n",
    "            'src': f'data:image/jpeg;base64,{data}', \n",
    "            'formats': ['data', 'html', 'latex_styled'], \n",
    "            'data_options': {\n",
    "                'include_asciimath': True, \n",
    "                'include_latex': True}\n",
    "        }\n",
    "        json_req = json.dumps(req)\n",
    "        r = requests.post('https://api.mathpix.com/v3/text', headers={'app_id': '', 'app_key': '', 'Content-Type': 'application/json'},\n",
    "                        json=req)\n",
    "#         with open('rez.tex', 'w') as wf:\n",
    "#             wf.write(r.json()['latex_styled'])"
   ]
  },
  {
   "cell_type": "code",
   "execution_count": 9,
   "metadata": {},
   "outputs": [
    {
     "data": {
      "text/plain": [
       "{'latex_styled': None, 'ascii_math': <Response [401]>}"
      ]
     },
     "execution_count": 9,
     "metadata": {},
     "output_type": "execute_result"
    }
   ],
   "source": [
    "def equation(path):\n",
    "    with open(path, 'rb') as rf:\n",
    "        app_id = os.getenv('app_id')\n",
    "        app_key = os.getenv('app_key')\n",
    "        \n",
    "        data = base64.b64encode(rf.read()).decode('utf-8')\n",
    "        req = {\n",
    "            'src': f'data:image/jpeg;base64,{data}', \n",
    "            'formats': ['data', 'html', 'latex_styled'], \n",
    "            'data_options': {\n",
    "                'include_asciimath': True, \n",
    "                'include_latex': True}\n",
    "        }\n",
    "        json_req = json.dumps(req)\n",
    "        r = requests.post('https://api.mathpix.com/v3/text', headers={'app_id': app_id, 'app_key': app_key, 'Content-Type': 'application/json'},\n",
    "                    json=req)\n",
    "    \n",
    "        obj = {\n",
    "            \"latex_styled\": None,\n",
    "            \"ascii_math\": r\n",
    "        }\n",
    "        \n",
    "    return obj\n",
    "\n",
    "\n",
    "\n",
    "equation('/Users/lucy/cosmos/cosmos-mathpix/test_images/test_img.png')\n",
    "\n",
    "#https://www.askpython.com/python/environment-variables-in-python\n",
    "#os.environ['HOME']\n",
    "\n",
    "#os.getlogin()\n",
    "\n",
    "#r = requests.post(url,data=json.dumps(payload),headers=headers, auth=(USERNAME, PASSWORD))"
   ]
  },
  {
   "cell_type": "markdown",
   "metadata": {},
   "source": [
    "$$\n",
    "\\begin{array}{l}\n",
    "p_{\\theta}(\\mathbf{y} \\mid \\mathbf{x}) \\propto \\\\\n",
    "\\exp \\left(\\sum_{e \\in E, k} \\lambda_{k} f_{k}\\left(e,\\left.\\mathbf{y}\\right|_{e}, \\mathbf{x}\\right)+\\sum_{v \\in V, k} \\mu_{k} g_{k}\\left(v,\\left.\\mathbf{y}\\right|_{v}, \\mathbf{x}\\right)\\right)\n",
    "\\end{array}\n",
    "$$"
   ]
  }
 ],
 "metadata": {
  "kernelspec": {
   "display_name": "Python 3",
   "language": "python",
   "name": "python3"
  },
  "language_info": {
   "codemirror_mode": {
    "name": "ipython",
    "version": 3
   },
   "file_extension": ".py",
   "mimetype": "text/x-python",
   "name": "python",
   "nbconvert_exporter": "python",
   "pygments_lexer": "ipython3",
   "version": "3.8.3"
  }
 },
 "nbformat": 4,
 "nbformat_minor": 4
}
